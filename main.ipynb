{
 "cells": [
  {
   "cell_type": "markdown",
   "metadata": {},
   "source": [
    "# Carregamento de bibliotecas"
   ]
  },
  {
   "cell_type": "code",
   "execution_count": 1,
   "metadata": {},
   "outputs": [
    {
     "ename": "ModuleNotFoundError",
     "evalue": "No module named 'holidays'",
     "output_type": "error",
     "traceback": [
      "\u001b[1;31m---------------------------------------------------------------------------\u001b[0m",
      "\u001b[1;31mModuleNotFoundError\u001b[0m                       Traceback (most recent call last)",
      "\u001b[1;32m~\\AppData\\Local\\Temp/ipykernel_19012/4017544026.py\u001b[0m in \u001b[0;36m<module>\u001b[1;34m\u001b[0m\n\u001b[0;32m      1\u001b[0m \u001b[1;32mimport\u001b[0m \u001b[0mpandas\u001b[0m \u001b[1;32mas\u001b[0m \u001b[0mpd\u001b[0m\u001b[1;33m\u001b[0m\u001b[1;33m\u001b[0m\u001b[0m\n\u001b[0;32m      2\u001b[0m \u001b[1;32mimport\u001b[0m \u001b[0mdatetime\u001b[0m\u001b[1;33m\u001b[0m\u001b[1;33m\u001b[0m\u001b[0m\n\u001b[1;32m----> 3\u001b[1;33m \u001b[1;32mimport\u001b[0m \u001b[0mholidays\u001b[0m\u001b[1;33m\u001b[0m\u001b[1;33m\u001b[0m\u001b[0m\n\u001b[0m",
      "\u001b[1;31mModuleNotFoundError\u001b[0m: No module named 'holidays'"
     ]
    }
   ],
   "source": [
    "import pandas as pd\n",
    "import datetime\n",
    "import holidays"
   ]
  },
  {
   "cell_type": "markdown",
   "metadata": {},
   "source": [
    "# Parametrização da extensão temporal"
   ]
  },
  {
   "cell_type": "code",
   "execution_count": null,
   "metadata": {},
   "outputs": [],
   "source": [
    "# define os anos a recuar\n",
    "anos_anteriores = 3\n",
    "# define os anos posteriores ao atual\n",
    "anos_posteriores = 1\n",
    "# extensão temporal\n",
    "anos = [datetime.datetime.now().year - x for x in range(- anos_posteriores, anos_anteriores + 1)]"
   ]
  },
  {
   "cell_type": "markdown",
   "metadata": {},
   "source": [
    "# Feriados e Fins-de-semana"
   ]
  },
  {
   "cell_type": "code",
   "execution_count": null,
   "metadata": {},
   "outputs": [],
   "source": [
    "# FERIADOS\n",
    "dic_feriados = holidays.Portugal(years = anos)\n",
    "\n",
    "# FERIADOS MUNICIPAIS (FARO)\n",
    "for a in anos:\n",
    "    dta = str(a) + '-09-07'\n",
    "    dic_feriados[dta] = 'Feriado Municipal de Faro'\n",
    "\n",
    "# Cria dicionário cuja chave passa a string\n",
    "dic_feriados_1 = {}\n",
    "\n",
    "for d, v in dic_feriados.items():\n",
    "    data = str(d)[:10]\n",
    "    dic_feriados_1[data] = v\n",
    "\n",
    "# FINS-DE-SEMANA\n",
    "anoAtual = datetime.datetime.now().year\n",
    "anoInico = min(anos)\n",
    "dtaInicio = str(anoInico) + '-01-01'\n",
    "dtaFim = str(max(anos)) + '-12-31'\n",
    "dias = pd.date_range(dtaInicio, dtaFim, name='data')\n",
    "dic_fds = {}\n",
    "\n",
    "for d in dias:\n",
    "    data = str(d)[:10]\n",
    "    dayweek = datetime.datetime.weekday(d)\n",
    "    if dayweek == 5:\n",
    "        dic_fds[data] = 'Sábado'\n",
    "    elif dayweek == 6:\n",
    "        dic_fds[data] = 'Domingo'\n",
    "\n",
    "# DIAS NÃO UTEIS (Feriados + fins-de-semana)\n",
    "dic_dias_n_uteis = dic_fds.copy()\n",
    "dic_dias_n_uteis.update(dic_feriados_1)\n",
    "dic_dias_n_uteis = dict(sorted(dic_dias_n_uteis.items()))\n",
    "l_dias_n_uteis = list(dic_dias_n_uteis.keys())"
   ]
  },
  {
   "cell_type": "markdown",
   "metadata": {},
   "source": [
    "# Função prazo\n",
    "Função que determina o dia util seguinte ao termo do prazo, definido sob uma condição"
   ]
  },
  {
   "cell_type": "code",
   "execution_count": null,
   "metadata": {},
   "outputs": [],
   "source": [
    "def prazo(x, y):\n",
    "    if x == \"Lisboa\":\n",
    "        prazo = 30\n",
    "    else:\n",
    "        prazo = 45\n",
    "    while prazo < prazo + 7:\n",
    "        dtlimite = str(y + datetime.timedelta(days=prazo))[:10]\n",
    "        if dtlimite not in l_dias_n_uteis:\n",
    "            resultado = dtlimite\n",
    "            break\n",
    "        prazo += 1\n",
    "    return resultado"
   ]
  },
  {
   "cell_type": "markdown",
   "metadata": {},
   "source": [
    "# Exemplo de aplicação"
   ]
  },
  {
   "cell_type": "code",
   "execution_count": null,
   "metadata": {},
   "outputs": [],
   "source": [
    "df = pd.DataFrame({'cidade': \"\"\"Tavira Faro Lisboa Porto Coimbra Tavira Porto Coimbra Tavira \n",
    "                               Lisboa Porto Coimbra Tavira Porto Coimbra Tavira\"\"\".split(),\n",
    "              'dtaPed': \"\"\"2023-11-15 2023-11-16 2023-11-17 2023-11-18 2023-11-19 2023-11-20\n",
    "                         2023-11-21 2023-11-22 2023-11-23 2023-11-24 2023-11-25 2023-11-26\n",
    "                         2023-11-27 2023-11-28 2023-11-29 2023-11-30\"\"\".split()})\n",
    "df['dtaPed'] = pd.to_datetime(df.dtaPed)"
   ]
  },
  {
   "cell_type": "code",
   "execution_count": null,
   "metadata": {},
   "outputs": [
    {
     "data": {
      "text/html": [
       "<div>\n",
       "<style scoped>\n",
       "    .dataframe tbody tr th:only-of-type {\n",
       "        vertical-align: middle;\n",
       "    }\n",
       "\n",
       "    .dataframe tbody tr th {\n",
       "        vertical-align: top;\n",
       "    }\n",
       "\n",
       "    .dataframe thead th {\n",
       "        text-align: right;\n",
       "    }\n",
       "</style>\n",
       "<table border=\"1\" class=\"dataframe\">\n",
       "  <thead>\n",
       "    <tr style=\"text-align: right;\">\n",
       "      <th></th>\n",
       "      <th>cidade</th>\n",
       "      <th>dtaPed</th>\n",
       "      <th>dtaPrazo</th>\n",
       "      <th>dias</th>\n",
       "    </tr>\n",
       "  </thead>\n",
       "  <tbody>\n",
       "    <tr>\n",
       "      <th>0</th>\n",
       "      <td>Tavira</td>\n",
       "      <td>2023-11-15</td>\n",
       "      <td>2024-01-02</td>\n",
       "      <td>48 days</td>\n",
       "    </tr>\n",
       "    <tr>\n",
       "      <th>1</th>\n",
       "      <td>Faro</td>\n",
       "      <td>2023-11-16</td>\n",
       "      <td>2024-01-02</td>\n",
       "      <td>47 days</td>\n",
       "    </tr>\n",
       "    <tr>\n",
       "      <th>2</th>\n",
       "      <td>Lisboa</td>\n",
       "      <td>2023-11-17</td>\n",
       "      <td>2023-12-18</td>\n",
       "      <td>31 days</td>\n",
       "    </tr>\n",
       "    <tr>\n",
       "      <th>3</th>\n",
       "      <td>Porto</td>\n",
       "      <td>2023-11-18</td>\n",
       "      <td>2024-01-02</td>\n",
       "      <td>45 days</td>\n",
       "    </tr>\n",
       "    <tr>\n",
       "      <th>4</th>\n",
       "      <td>Coimbra</td>\n",
       "      <td>2023-11-19</td>\n",
       "      <td>2024-01-03</td>\n",
       "      <td>45 days</td>\n",
       "    </tr>\n",
       "    <tr>\n",
       "      <th>5</th>\n",
       "      <td>Tavira</td>\n",
       "      <td>2023-11-20</td>\n",
       "      <td>2024-01-04</td>\n",
       "      <td>45 days</td>\n",
       "    </tr>\n",
       "    <tr>\n",
       "      <th>6</th>\n",
       "      <td>Porto</td>\n",
       "      <td>2023-11-21</td>\n",
       "      <td>2024-01-05</td>\n",
       "      <td>45 days</td>\n",
       "    </tr>\n",
       "    <tr>\n",
       "      <th>7</th>\n",
       "      <td>Coimbra</td>\n",
       "      <td>2023-11-22</td>\n",
       "      <td>2024-01-08</td>\n",
       "      <td>47 days</td>\n",
       "    </tr>\n",
       "    <tr>\n",
       "      <th>8</th>\n",
       "      <td>Tavira</td>\n",
       "      <td>2023-11-23</td>\n",
       "      <td>2024-01-08</td>\n",
       "      <td>46 days</td>\n",
       "    </tr>\n",
       "    <tr>\n",
       "      <th>9</th>\n",
       "      <td>Lisboa</td>\n",
       "      <td>2023-11-24</td>\n",
       "      <td>2023-12-26</td>\n",
       "      <td>32 days</td>\n",
       "    </tr>\n",
       "    <tr>\n",
       "      <th>10</th>\n",
       "      <td>Porto</td>\n",
       "      <td>2023-11-25</td>\n",
       "      <td>2024-01-09</td>\n",
       "      <td>45 days</td>\n",
       "    </tr>\n",
       "    <tr>\n",
       "      <th>11</th>\n",
       "      <td>Coimbra</td>\n",
       "      <td>2023-11-26</td>\n",
       "      <td>2024-01-10</td>\n",
       "      <td>45 days</td>\n",
       "    </tr>\n",
       "    <tr>\n",
       "      <th>12</th>\n",
       "      <td>Tavira</td>\n",
       "      <td>2023-11-27</td>\n",
       "      <td>2024-01-11</td>\n",
       "      <td>45 days</td>\n",
       "    </tr>\n",
       "    <tr>\n",
       "      <th>13</th>\n",
       "      <td>Porto</td>\n",
       "      <td>2023-11-28</td>\n",
       "      <td>2024-01-12</td>\n",
       "      <td>45 days</td>\n",
       "    </tr>\n",
       "    <tr>\n",
       "      <th>14</th>\n",
       "      <td>Coimbra</td>\n",
       "      <td>2023-11-29</td>\n",
       "      <td>2024-01-15</td>\n",
       "      <td>47 days</td>\n",
       "    </tr>\n",
       "    <tr>\n",
       "      <th>15</th>\n",
       "      <td>Tavira</td>\n",
       "      <td>2023-11-30</td>\n",
       "      <td>2024-01-15</td>\n",
       "      <td>46 days</td>\n",
       "    </tr>\n",
       "  </tbody>\n",
       "</table>\n",
       "</div>"
      ],
      "text/plain": [
       "     cidade     dtaPed   dtaPrazo    dias\n",
       "0    Tavira 2023-11-15 2024-01-02 48 days\n",
       "1      Faro 2023-11-16 2024-01-02 47 days\n",
       "2    Lisboa 2023-11-17 2023-12-18 31 days\n",
       "3     Porto 2023-11-18 2024-01-02 45 days\n",
       "4   Coimbra 2023-11-19 2024-01-03 45 days\n",
       "5    Tavira 2023-11-20 2024-01-04 45 days\n",
       "6     Porto 2023-11-21 2024-01-05 45 days\n",
       "7   Coimbra 2023-11-22 2024-01-08 47 days\n",
       "8    Tavira 2023-11-23 2024-01-08 46 days\n",
       "9    Lisboa 2023-11-24 2023-12-26 32 days\n",
       "10    Porto 2023-11-25 2024-01-09 45 days\n",
       "11  Coimbra 2023-11-26 2024-01-10 45 days\n",
       "12   Tavira 2023-11-27 2024-01-11 45 days\n",
       "13    Porto 2023-11-28 2024-01-12 45 days\n",
       "14  Coimbra 2023-11-29 2024-01-15 47 days\n",
       "15   Tavira 2023-11-30 2024-01-15 46 days"
      ]
     },
     "execution_count": 14,
     "metadata": {},
     "output_type": "execute_result"
    }
   ],
   "source": [
    "df['dtaPrazo'] = df.apply(lambda x: prazo(x.cidade, x.dtaPed), axis=1)\n",
    "df['dtaPrazo'] = pd.to_datetime(df.dtaPrazo)\n",
    "df['dias'] = df.apply(lambda x: x.dtaPrazo - x.dtaPed, axis=1)\n",
    "\n",
    "df"
   ]
  },
  {
   "cell_type": "code",
   "execution_count": null,
   "metadata": {},
   "outputs": [],
   "source": []
  }
 ],
 "metadata": {
  "kernelspec": {
   "display_name": "Python 3.8.8 ('base')",
   "language": "python",
   "name": "python3"
  },
  "language_info": {
   "codemirror_mode": {
    "name": "ipython",
    "version": 3
   },
   "file_extension": ".py",
   "mimetype": "text/x-python",
   "name": "python",
   "nbconvert_exporter": "python",
   "pygments_lexer": "ipython3",
   "version": "3.8.8"
  },
  "orig_nbformat": 4,
  "vscode": {
   "interpreter": {
    "hash": "2db530a50e225ed1d73ac4bc1072e70e666df75e63aa73173b5a7ceb276d62ca"
   }
  }
 },
 "nbformat": 4,
 "nbformat_minor": 2
}
